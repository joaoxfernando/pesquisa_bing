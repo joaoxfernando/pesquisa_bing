{
 "cells": [
  {
   "cell_type": "code",
   "execution_count": 7,
   "metadata": {},
   "outputs": [],
   "source": [
    "import pyautogui\n",
    "import requests as req\n",
    "import time\n",
    "import numpy as np"
   ]
  },
  {
   "cell_type": "code",
   "execution_count": 2,
   "metadata": {},
   "outputs": [],
   "source": [
    "pyautogui.PAUSE = 0.7\n",
    "\n",
    "pyautogui.sleep(1)\n",
    "pyautogui.hotkey('win')\n",
    "pyautogui.typewrite('edge')\n",
    "pyautogui.press('enter')"
   ]
  },
  {
   "cell_type": "code",
   "execution_count": 3,
   "metadata": {},
   "outputs": [],
   "source": [
    "limpa_pesq = ['/', 'backspace']\n",
    "voltar = ['alt', 'left']\n",
    "\n",
    "url_words = 'https://random-word.ryanrk.com/api/en/word/random/35'\n",
    "url_bing = 'https://rewards.bing.com/'\n",
    "data = req.get(url_words).text\n",
    "\n",
    "palavras = data[2:-2]\n",
    "palavras = palavras.replace('\"','').split(',')\n",
    "st = np.linspace(3.5,4,20) # define 50 values of sleep times between 3.5 and 4 (seconds) to use in next for loop\n",
    "pyautogui.sleep(5)"
   ]
  },
  {
   "cell_type": "code",
   "execution_count": 4,
   "metadata": {},
   "outputs": [],
   "source": [
    "inicio = time.time() # inicio do script\n",
    "sleeptimes = np.linspace(3,4,100)\n",
    "\n",
    "for palavra in palavras:\n",
    "    pyautogui.sleep(1)\n",
    "    pyautogui.typewrite(palavra)\n",
    "    pyautogui.press('enter')\n",
    "    pyautogui.sleep(np.random.choice(st))"
   ]
  },
  {
   "cell_type": "code",
   "execution_count": 5,
   "metadata": {},
   "outputs": [],
   "source": [
    "pyautogui.hotkey('ctrl', 'l')\n",
    "pyautogui.sleep(0.25)\n",
    "pyautogui.typewrite(url_bing)\n",
    "pyautogui.press('enter')\n",
    "\n",
    "fim = time.time()\n",
    "tempo = fim-inicio # final do script (contando a duração)"
   ]
  },
  {
   "cell_type": "code",
   "execution_count": 6,
   "metadata": {},
   "outputs": [
    {
     "name": "stdout",
     "output_type": "stream",
     "text": [
      "O código foi executado em 227 segundos.\n"
     ]
    },
    {
     "data": {
      "text/plain": [
       "'OK'"
      ]
     },
     "execution_count": 6,
     "metadata": {},
     "output_type": "execute_result"
    }
   ],
   "source": [
    "print(f'O código foi executado em {tempo:.0f} segundos.')\n",
    "pyautogui.alert(f'A execução do script terminou! Levou um total de {tempo:.0f} segundos.')"
   ]
  }
 ],
 "metadata": {
  "kernelspec": {
   "display_name": "Python 3",
   "language": "python",
   "name": "python3"
  },
  "language_info": {
   "codemirror_mode": {
    "name": "ipython",
    "version": 3
   },
   "file_extension": ".py",
   "mimetype": "text/x-python",
   "name": "python",
   "nbconvert_exporter": "python",
   "pygments_lexer": "ipython3",
   "version": "3.13.1"
  }
 },
 "nbformat": 4,
 "nbformat_minor": 2
}
